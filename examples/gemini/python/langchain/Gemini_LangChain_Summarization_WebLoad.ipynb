{
  "cells": [
    {
      "cell_type": "markdown",
      "metadata": {
        "id": "Tce3stUlHN0L"
      },
      "source": [
        "##### Copyright 2024 Google LLC."
      ]
    },
    {
      "cell_type": "code",
      "execution_count": null,
      "metadata": {
        "cellView": "form",
        "id": "tuOe1ymfHZPu"
      },
      "outputs": [],
      "source": [
        "#@title Licensed under the Apache License, Version 2.0 (the \"License\");\n",
        "# you may not use this file except in compliance with the License.\n",
        "# You may obtain a copy of the License at\n",
        "#\n",
        "# https://www.apache.org/licenses/LICENSE-2.0\n",
        "#\n",
        "# Unless required by applicable law or agreed to in writing, software\n",
        "# distributed under the License is distributed on an \"AS IS\" BASIS,\n",
        "# WITHOUT WARRANTIES OR CONDITIONS OF ANY KIND, either express or implied.\n",
        "# See the License for the specific language governing permissions and\n",
        "# limitations under the License."
      ]
    },
    {
      "cell_type": "markdown",
      "metadata": {
        "id": "f22a409c18ef"
      },
      "source": [
        "# Summarize large documents using LangChain and Gemini"
      ]
    },
    {
      "cell_type": "markdown",
      "metadata": {
        "id": "awKO767lQIWh"
      },
      "source": [
        "<table class=\"tfo-notebook-buttons\" align=\"left\">\n",
        "  <td>\n",
        "    <a target=\"_blank\" href=\"https://colab.research.google.com/github/google/generative-ai-docs/blob/main/examples/gemini/python/langchain/Gemini_LangChain_Summarization_WebLoad.ipynb\"><img src=\"https://www.tensorflow.org/images/colab_logo_32px.png\" />Run in Google Colab</a>\n",
        "  </td>\n",
        "  <td>\n",
        "    <a target=\"_blank\" href=\"https://github.com/google/generative-ai-docs/blob/main/examples/gemini/python/langchain/Gemini_LangChain_Summarization_WebLoad.ipynb\"><img src=\"https://www.tensorflow.org/images/GitHub-Mark-32px.png\" />View source on GitHub</a>\n",
        "  </td>\n",
        "</table>\n"
      ]
    },
    {
      "cell_type": "markdown",
      "metadata": {
        "id": "f892e8b2c8ef"
      },
      "source": [
        "## Overview\n",
        "\n",
        "[Gemini](https://ai.google.dev/models/gemini) is a family of generative AI models that lets developers generate content and solve problems. These models are designed and trained to handle both text and images as input.\n",
        "\n",
        "[LangChain](https://www.langchain.com/) is a framework designed to make integration of Large Language Models (LLM) like Gemini easier for applications.\n",
        "\n",
        "In this notebook, you'll learn how to create an application to summarize large documents using Gemini and LangChain.\n"
      ]
    },
    {
      "cell_type": "markdown",
      "metadata": {
        "id": "iHj4T7hsx1EB"
      },
      "source": [
        "## Setup\n",
        "\n",
        "First, you must install the packages and set the necessary environment variables.\n",
        "\n",
        "### Installation\n",
        "\n",
        "Install LangChain's Python library, `langchain`."
      ]
    },
    {
      "cell_type": "code",
      "execution_count": 7,
      "metadata": {
        "id": "yERdO0eFJpb-"
      },
      "outputs": [],
      "source": [
        "!pip install --quiet langchain"
      ]
    },
    {
      "cell_type": "markdown",
      "metadata": {
        "id": "45MVc1stzNUN"
      },
      "source": [
        "Install LangChain's integration package for Gemini, `langchain-google-genai`."
      ]
    },
    {
      "cell_type": "code",
      "execution_count": 6,
      "metadata": {
        "id": "FcMXJTN5JsfU"
      },
      "outputs": [],
      "source": [
        "!pip install --quiet langchain-google-genai"
      ]
    },
    {
      "cell_type": "markdown",
      "metadata": {
        "id": "ycFMUTxn0VoI"
      },
      "source": [
        "### Grab an API Key\n"
      ]
    },
    {
      "cell_type": "markdown",
      "metadata": {
        "id": "e1dZNWvUzksX"
      },
      "source": [
        "To use Gemini you need an *API key*. You can create an API key with one click in [Google AI Studio](https://makersuite.google.com/).\n",
        "After creating the API key, you can either set an environment variable named `GOOGLE_API_KEY` to your API Key or pass the API key as an argument when creating the `ChatGoogleGenerativeAI` LLM using `LangChain`.\n",
        "\n",
        "In this tutorial, you will set the environment variable `GOOGLE_API_KEY` to configure Gemini to use your API key."
      ]
    },
    {
      "cell_type": "code",
      "execution_count": 20,
      "metadata": {
        "id": "1RO5jvTTddtc"
      },
      "outputs": [],
      "source": [
        "# Run this cell and paste the API key in the prompt\n",
        "import os\n",
        "import getpass\n",
        "\n",
        "# os.environ['GOOGLE_API_KEY'] = getpass.getpass('Gemini API Key:')\n",
        "# google_api_key=os.environ.get(\"GOOGLE_API_KEY\"),"
      ]
    },
    {
      "cell_type": "markdown",
      "metadata": {
        "id": "i7wgsoiz418u"
      },
      "source": [
        "## Summarize text\n",
        "\n",
        "In this tutorial, you are going to summarize the text from a website using the Gemini model integrated through LangChain.\n",
        "\n",
        "You'll perform the following steps to achieve the same:\n",
        "1. Read and parse the website data using LangChain.\n",
        "2. Chain together the following:\n",
        "    * A prompt for extracting the required input data from the parsed website data.\n",
        "    * A prompt for summarizing the text using LangChain.\n",
        "    * An LLM model (Gemini) for prompting.\n",
        "\n",
        "3. Run the created chain to prompt the model for the summary of the website data."
      ]
    },
    {
      "cell_type": "markdown",
      "metadata": {
        "id": "RhL92-zmSB6Z"
      },
      "source": [
        "### Import the required libraries"
      ]
    },
    {
      "cell_type": "code",
      "execution_count": 21,
      "metadata": {
        "id": "rAv0UicpKARZ"
      },
      "outputs": [],
      "source": [
        "from langchain import PromptTemplate\n",
        "from langchain.document_loaders import WebBaseLoader\n",
        "from langchain.schema import StrOutputParser\n",
        "from langchain.schema.prompt_template import format_document"
      ]
    },
    {
      "cell_type": "markdown",
      "metadata": {
        "id": "4tKpRvmMRX23"
      },
      "source": [
        "### Read and parse the website data\n",
        "\n",
        "LangChain provides a wide variety of document loaders. To read the website data as a document, you will use the `WebBaseLoader` from LangChain.\n",
        "\n",
        "To know more about how to read and parse input data from different sources using the document loaders of LangChain, read LangChain's [document loaders guide](https://python.langchain.com/docs/integrations/document_loaders)."
      ]
    },
    {
      "cell_type": "code",
      "execution_count": 22,
      "metadata": {
        "id": "TTgmyxXzKCSq"
      },
      "outputs": [
        {
          "name": "stdout",
          "output_type": "stream",
          "text": [
            "[Document(page_content=\"\\n\\n\\n\\n\\n\\nIntroducing Gemini: Google’s most capable AI model yet\\n\\n\\n\\n\\n\\n\\n\\n\\n\\n\\n\\n\\n\\n\\n\\n\\n\\n\\n\\n\\n\\n\\n\\n\\n\\n\\n\\n\\n\\n\\n\\n\\n\\n\\n\\n\\n\\n\\n\\n\\n\\n\\n\\n\\n\\n\\n\\n\\n\\n\\n\\n\\n\\n\\n\\n\\n\\n\\n\\n\\n\\nSkip to main content\\n\\n\\n\\n\\n\\n        The Keyword\\n      \\n\\n\\n\\n\\n    Introducing Gemini: our largest and most capable AI model\\n  \\n\\n\\n\\n\\n\\n\\nShare\\n\\n\\n\\n\\n\\n\\nTwitter\\n\\n\\n\\n\\n\\nFacebook\\n\\n\\n\\n\\n\\nLinkedIn\\n\\n\\n\\n\\n\\nMail\\n\\n\\n\\n\\n\\n\\nCopy link\\n\\n\\n\\n\\n\\n\\n\\n\\n\\n\\n\\n\\n\\n\\n\\n\\n               Latest stories\\n            \\n\\n\\n\\n              Product updates\\n              \\n\\n\\n\\n\\n\\n\\n\\n\\n\\n\\n\\n\\n    Product updates\\n  \\n\\n\\n\\n            Android, Chrome & Play\\n            \\n\\n\\n\\n\\n\\n\\n\\n\\n                  Android\\n                  \\n                \\n\\n\\n\\n                  Chrome\\n                  \\n                \\n\\n\\n\\n                  Chromebooks\\n                  \\n                \\n\\n\\n\\n                  Google Play\\n                  \\n                \\n\\n\\n\\n                  Wear OS by Google\\n                  \\n                \\n\\n\\n\\n\\n\\n            Devices & Services\\n            \\n\\n\\n\\n\\n\\n\\n\\n\\n                  Chromecast\\n                  \\n                \\n\\n\\n\\n                  Fitbit\\n                  \\n                \\n\\n\\n\\n                  Google Nest\\n                  \\n                \\n\\n\\n\\n                  Pixel\\n                  \\n                \\n\\n\\n\\n\\n\\n            Explore & Get Answers\\n            \\n\\n\\n\\n\\n\\n\\n\\n\\n                  Gemini\\n                  \\n                \\n\\n\\n\\n                  Google Assistant\\n                  \\n                \\n\\n\\n\\n                  Maps\\n                  \\n                \\n\\n\\n\\n                  News\\n                  \\n                \\n\\n\\n\\n                  Search\\n                  \\n                \\n\\n\\n\\n                  Shopping\\n                  \\n                \\n\\n\\n\\n\\n\\n            Connect & Communicate\\n            \\n\\n\\n\\n\\n\\n\\n\\n\\n                  Photos\\n                  \\n                \\n\\n\\n\\n                  Translate\\n                  \\n                \\n\\n\\n\\n                  Registry\\n                  \\n                \\n\\n\\n\\n\\n\\n            In The Cloud\\n            \\n\\n\\n\\n\\n\\n\\n\\n\\n                  Docs, Sheets and Slides\\n                  \\n                \\n\\n\\n\\n                  Gmail\\n                  \\n                \\n\\n\\n\\n                  Google Cloud\\n                  \\n                \\n\\n\\n\\n                  Meet\\n                  \\n                \\n\\n\\n\\n                  More on the Cloud Blog\\n                  \\n                    \\n\\n\\n\\n\\n\\n\\n\\n\\n      See all product updates\\n    \\n\\n\\n\\n\\n\\n            Android, Chrome & Play\\n          \\n\\n\\n\\n                    Android\\n\\n                    \\n                  \\n\\n\\n\\n                    Chrome\\n\\n                    \\n                  \\n\\n\\n\\n                    Chromebooks\\n\\n                    \\n                  \\n\\n\\n\\n                    Google Play\\n\\n                    \\n                  \\n\\n\\n\\n                    Wear OS by Google\\n\\n                    \\n                  \\n\\n\\n\\n\\n\\n            Devices & Services\\n          \\n\\n\\n\\n                    Chromecast\\n\\n                    \\n                  \\n\\n\\n\\n                    Fitbit\\n\\n                    \\n                  \\n\\n\\n\\n                    Google Nest\\n\\n                    \\n                  \\n\\n\\n\\n                    Pixel\\n\\n                    \\n                  \\n\\n\\n\\n\\n\\n            Explore & Get Answers\\n          \\n\\n\\n\\n                    Gemini\\n\\n                    \\n                  \\n\\n\\n\\n                    Google Assistant\\n\\n                    \\n                  \\n\\n\\n\\n                    Maps\\n\\n                    \\n                  \\n\\n\\n\\n                    News\\n\\n                    \\n                  \\n\\n\\n\\n                    Search\\n\\n                    \\n                  \\n\\n\\n\\n                    Shopping\\n\\n                    \\n                  \\n\\n\\n\\n\\n\\n            Connect & Communicate\\n          \\n\\n\\n\\n                    Photos\\n\\n                    \\n                  \\n\\n\\n\\n                    Translate\\n\\n                    \\n                  \\n\\n\\n\\n                    Registry\\n\\n                    \\n                  \\n\\n\\n\\n\\n\\n            In The Cloud\\n          \\n\\n\\n\\n                    Docs, Sheets and Slides\\n\\n                    \\n                  \\n\\n\\n\\n                    Gmail\\n\\n                    \\n                  \\n\\n\\n\\n                    Google Cloud\\n\\n                    \\n                  \\n\\n\\n\\n                    Meet\\n\\n                    \\n                  \\n\\n\\n\\n                    More on the Cloud Blog\\n\\n                    \\n                      \\n\\n\\n\\n\\n\\n\\n\\n\\n\\n        See all product updates\\n        \\n\\n\\n\\n\\n\\n\\n\\n\\n\\n\\n\\n\\n\\n              Company news\\n              \\n\\n\\n\\n\\n\\n\\n\\n\\n\\n\\n\\n\\n    Company news\\n  \\n\\n\\n\\n            Outreach & initiatives\\n            \\n\\n\\n\\n\\n\\n\\n\\n\\n                  Diversity and inclusion\\n                  \\n                \\n\\n\\n\\n                  Education\\n                  \\n                \\n\\n\\n\\n                  Google.org\\n                  \\n                \\n\\n\\n\\n                  Grow with Google\\n                  \\n                \\n\\n\\n\\n                  Sustainability\\n                  \\n                \\n\\n\\n\\n                   See all\\n                \\n\\n\\n\\n\\n\\n            Technology\\n            \\n\\n\\n\\n\\n\\n\\n\\n\\n                  AI\\n                  \\n                \\n\\n\\n\\n                  Developers\\n                  \\n                \\n\\n\\n\\n                  Families\\n                  \\n                \\n\\n\\n\\n                  Next billion users\\n                  \\n                \\n\\n\\n\\n                  Safety and security\\n                  \\n                \\n\\n\\n\\n                   See all\\n                \\n\\n\\n\\n\\n\\n            Inside Google\\n            \\n\\n\\n\\n\\n\\n\\n\\n\\n                  Data centers and infrastructure\\n                  \\n                \\n\\n\\n\\n                  Doodles\\n                  \\n                \\n\\n\\n\\n                  Googlers\\n                  \\n                \\n\\n\\n\\n                  Life at Google\\n                  \\n                \\n\\n\\n\\n                   See all\\n                \\n\\n\\n\\n\\n\\n            Around the globe\\n            \\n\\n\\n\\n\\n\\n\\n\\n\\n                  Google in Asia\\n                  \\n                \\n\\n\\n\\n                  Google in Europe\\n                  \\n                \\n\\n\\n\\n                  Google in Latin America\\n                  \\n                \\n\\n\\n\\n                   See all\\n                \\n\\n\\n\\n\\n\\n            Authors\\n            \\n\\n\\n\\n\\n\\n\\n\\n\\n                  Sundar Pichai, CEO\\n                  \\n                \\n\\n\\n\\n                  Ruth Porat, SVP and CFO\\n                  \\n                \\n\\n\\n\\n                  Kent Walker, SVP\\n                  \\n                \\n\\n\\n\\n                   See all\\n                \\n\\n\\n\\n\\n\\n\\n\\n\\n\\n            Outreach & initiatives\\n          \\n\\n\\n\\n                    Diversity and inclusion\\n\\n                    \\n                  \\n\\n\\n\\n                    Education\\n\\n                    \\n                  \\n\\n\\n\\n                    Google.org\\n\\n                    \\n                  \\n\\n\\n\\n                    Grow with Google\\n\\n                    \\n                  \\n\\n\\n\\n                    Sustainability\\n\\n                    \\n                  \\n\\n\\n\\n            See all\\n            \\n\\n\\n\\n\\n\\n\\n            Technology\\n          \\n\\n\\n\\n                    AI\\n\\n                    \\n                  \\n\\n\\n\\n                    Developers\\n\\n                    \\n                  \\n\\n\\n\\n                    Families\\n\\n                    \\n                  \\n\\n\\n\\n                    Next billion users\\n\\n                    \\n                  \\n\\n\\n\\n                    Safety and security\\n\\n                    \\n                  \\n\\n\\n\\n            See all\\n            \\n\\n\\n\\n\\n\\n\\n            Inside Google\\n          \\n\\n\\n\\n                    Data centers and infrastructure\\n\\n                    \\n                  \\n\\n\\n\\n                    Doodles\\n\\n                    \\n                  \\n\\n\\n\\n                    Googlers\\n\\n                    \\n                  \\n\\n\\n\\n                    Life at Google\\n\\n                    \\n                  \\n\\n\\n\\n            See all\\n            \\n\\n\\n\\n\\n\\n\\n            Around the globe\\n          \\n\\n\\n\\n                    Google in Asia\\n\\n                    \\n                  \\n\\n\\n\\n                    Google in Europe\\n\\n                    \\n                  \\n\\n\\n\\n                    Google in Latin America\\n\\n                    \\n                  \\n\\n\\n\\n            See all\\n            \\n\\n\\n\\n\\n\\n\\n            Authors\\n          \\n\\n\\n\\n                    Sundar Pichai, CEO\\n\\n                    \\n                  \\n\\n\\n\\n                    Ruth Porat, SVP and CFO\\n\\n                    \\n                  \\n\\n\\n\\n                    Kent Walker, SVP\\n\\n                    \\n                  \\n\\n\\n\\n            See all\\n            \\n\\n\\n\\n\\n\\n\\n\\n\\n\\n\\n\\n\\n\\n\\n\\n\\n    Subscribe\\n\\n\\n\\n\\n\\n\\n\\n    Subscribe\\n\\n\\n\\n\\n\\n\\n\\n\\n\\n\\n\\n\\n\\n\\n\\n\\n\\n            The Keyword\\n          \\n\\n\\n\\n\\n\\n\\n\\n               Latest stories\\n            \\n\\n\\n\\n              Product updates\\n              \\n\\n\\n\\n\\n\\n\\n\\n\\n\\n\\n\\n\\n    Product updates\\n  \\n\\n\\n\\n            Android, Chrome & Play\\n            \\n\\n\\n\\n\\n\\n\\n\\n\\n                  Android\\n                  \\n                \\n\\n\\n\\n                  Chrome\\n                  \\n                \\n\\n\\n\\n                  Chromebooks\\n                  \\n                \\n\\n\\n\\n                  Google Play\\n                  \\n                \\n\\n\\n\\n                  Wear OS by Google\\n                  \\n                \\n\\n\\n\\n\\n\\n            Devices & Services\\n            \\n\\n\\n\\n\\n\\n\\n\\n\\n                  Chromecast\\n                  \\n                \\n\\n\\n\\n                  Fitbit\\n                  \\n                \\n\\n\\n\\n                  Google Nest\\n                  \\n                \\n\\n\\n\\n                  Pixel\\n                  \\n                \\n\\n\\n\\n\\n\\n            Explore & Get Answers\\n            \\n\\n\\n\\n\\n\\n\\n\\n\\n                  Gemini\\n                  \\n                \\n\\n\\n\\n                  Google Assistant\\n                  \\n                \\n\\n\\n\\n                  Maps\\n                  \\n                \\n\\n\\n\\n                  News\\n                  \\n                \\n\\n\\n\\n                  Search\\n                  \\n                \\n\\n\\n\\n                  Shopping\\n                  \\n                \\n\\n\\n\\n\\n\\n            Connect & Communicate\\n            \\n\\n\\n\\n\\n\\n\\n\\n\\n                  Photos\\n                  \\n                \\n\\n\\n\\n                  Translate\\n                  \\n                \\n\\n\\n\\n                  Registry\\n                  \\n                \\n\\n\\n\\n\\n\\n            In The Cloud\\n            \\n\\n\\n\\n\\n\\n\\n\\n\\n                  Docs, Sheets and Slides\\n                  \\n                \\n\\n\\n\\n                  Gmail\\n                  \\n                \\n\\n\\n\\n                  Google Cloud\\n                  \\n                \\n\\n\\n\\n                  Meet\\n                  \\n                \\n\\n\\n\\n                  More on the Cloud Blog\\n                  \\n                    \\n\\n\\n\\n\\n\\n\\n\\n\\n      See all product updates\\n    \\n\\n\\n\\n\\n              Company news\\n              \\n\\n\\n\\n\\n\\n\\n\\n\\n\\n\\n\\n\\n    Company news\\n  \\n\\n\\n\\n            Outreach & initiatives\\n            \\n\\n\\n\\n\\n\\n\\n\\n\\n                  Diversity and inclusion\\n                  \\n                \\n\\n\\n\\n                  Education\\n                  \\n                \\n\\n\\n\\n                  Google.org\\n                  \\n                \\n\\n\\n\\n                  Grow with Google\\n                  \\n                \\n\\n\\n\\n                  Sustainability\\n                  \\n                \\n\\n\\n\\n                   See all\\n                \\n\\n\\n\\n\\n\\n            Technology\\n            \\n\\n\\n\\n\\n\\n\\n\\n\\n                  AI\\n                  \\n                \\n\\n\\n\\n                  Developers\\n                  \\n                \\n\\n\\n\\n                  Families\\n                  \\n                \\n\\n\\n\\n                  Next billion users\\n                  \\n                \\n\\n\\n\\n                  Safety and security\\n                  \\n                \\n\\n\\n\\n                   See all\\n                \\n\\n\\n\\n\\n\\n            Inside Google\\n            \\n\\n\\n\\n\\n\\n\\n\\n\\n                  Data centers and infrastructure\\n                  \\n                \\n\\n\\n\\n                  Doodles\\n                  \\n                \\n\\n\\n\\n                  Googlers\\n                  \\n                \\n\\n\\n\\n                  Life at Google\\n                  \\n                \\n\\n\\n\\n                   See all\\n                \\n\\n\\n\\n\\n\\n            Around the globe\\n            \\n\\n\\n\\n\\n\\n\\n\\n\\n                  Google in Asia\\n                  \\n                \\n\\n\\n\\n                  Google in Europe\\n                  \\n                \\n\\n\\n\\n                  Google in Latin America\\n                  \\n                \\n\\n\\n\\n                   See all\\n                \\n\\n\\n\\n\\n\\n            Authors\\n            \\n\\n\\n\\n\\n\\n\\n\\n\\n                  Sundar Pichai, CEO\\n                  \\n                \\n\\n\\n\\n                  Ruth Porat, SVP and CFO\\n                  \\n                \\n\\n\\n\\n                  Kent Walker, SVP\\n                  \\n                \\n\\n\\n\\n                   See all\\n                \\n\\n\\n\\n\\n\\n\\n\\n\\n\\n\\n            Press corner\\n          \\n\\n\\n\\n            RSS feed\\n          \\n\\n\\n\\n\\n\\n    Subscribe\\n\\n\\n\\n\\n\\n\\n\\n\\n\\n\\n\\n\\n\\n\\nAI\\n\\n\\nIntroducing Gemini: our largest and most capable AI model\\n\\n\\n\\n\\n\\n\\n\\nDec 06, 2023\\nmin read\\n\\n\\n\\n\\n\\n\\nShare\\n\\n\\n\\n\\n\\n\\nTwitter\\n\\n\\n\\n\\n\\nFacebook\\n\\n\\n\\n\\n\\nLinkedIn\\n\\n\\n\\n\\n\\nMail\\n\\n\\n\\n\\n\\n\\nCopy link\\n\\n\\n\\n\\n\\n\\n\\n\\n\\n\\n          Making AI more helpful for everyone\\n        \\n\\n\\n\\n\\n\\n\\n\\n\\n\\n\\n\\n\\n\\nSundar Pichai\\n\\n      CEO of Google and Alphabet\\n    \\n\\n\\n\\n\\n\\n\\n\\n\\n\\n\\n\\nDemis Hassabis\\n\\n      CEO and Co-Founder, Google DeepMind\\n    \\n\\n\\n\\n\\n\\n\\n\\n\\n\\nShare\\n\\n\\n\\n\\n\\n\\nTwitter\\n\\n\\n\\n\\n\\nFacebook\\n\\n\\n\\n\\n\\nLinkedIn\\n\\n\\n\\n\\n\\nMail\\n\\n\\n\\n\\n\\n\\nCopy link\\n\\n\\n\\n\\n\\n\\n\\n\\n\\n\\n\\n\\n\\n\\n\\n\\n\\n\\n\\n\\n\\n\\n\\n\\n\\n\\n\\n\\nIn this story\\n\\n\\nIn this story\\n\\n\\n\\n\\n\\n\\n\\n\\n\\n\\n\\n\\nNote from Sundar\\n\\n\\nIntroducing Gemini\\n\\n\\nState-of-the-art performance\\n\\n\\nNext-generation capabilities\\n\\n\\nScalable and efficient\\n\\n\\nResponsibility and safety\\n\\n\\nAvailability\\n\\n\\n\\n\\n\\n\\n\\n\\n\\n\\n\\n\\n\\n\\n\\nA note from Google and Alphabet CEO Sundar Pichai:Every technology shift is an opportunity to advance scientific discovery, accelerate human progress, and improve lives. I believe the transition we are seeing right now with AI will be the most profound in our lifetimes, far bigger than the shift to mobile or to the web before it. AI has the potential to create opportunities — from the everyday to the extraordinary — for people everywhere. It will bring new waves of innovation and economic progress and drive knowledge, learning, creativity and productivity on a scale we haven’t seen before.That’s what excites me: the chance to make AI helpful for everyone, everywhere in the world.Nearly eight years into our journey as an AI-first company, the pace of progress is only accelerating: Millions of people are now using generative AI across our products to do things they couldn’t even a year ago, from finding answers to more complex questions to using new tools to collaborate and create. At the same time, developers are using our models and infrastructure to build new generative AI applications, and startups and enterprises around the world are growing with our AI tools.This is incredible momentum, and yet, we’re only beginning to scratch the surface of what’s possible.We’re approaching this work boldly and responsibly. That means being ambitious in our research and pursuing the capabilities that will bring enormous benefits to people and society, while building in safeguards and working collaboratively with governments and experts to address risks as AI becomes more capable. And we continue to invest in the very best tools, foundation models and infrastructure and bring them to our products and to others, guided by our AI Principles.Now, we’re taking the next step on our journey with Gemini, our most capable and general model yet, with state-of-the-art performance across many leading benchmarks. Our first version, Gemini 1.0, is optimized for different sizes: Ultra, Pro and Nano. These are the first models of the Gemini era and the first realization of the vision we had when we formed Google DeepMind earlier this year. This new era of models represents one of the biggest science and engineering efforts we’ve undertaken as a company. I’m genuinely excited for what’s ahead, and for the opportunities Gemini will unlock for people everywhere.– Sundar\\n\\n\\n\\n\\n\\nIntroducing GeminiBy Demis Hassabis, CEO and Co-Founder of Google DeepMind, on behalf of the Gemini teamAI has been the focus of my life's work, as for many of my research colleagues. Ever since programming AI for computer games as a teenager, and throughout my years as a neuroscience researcher trying to understand the workings of the brain, I’ve always believed that if we could build smarter machines, we could harness them to benefit humanity in incredible ways.This promise of a world responsibly empowered by AI continues to drive our work at Google DeepMind. For a long time, we’ve wanted to build a new generation of AI models, inspired by the way people understand and interact with the world. AI that feels less like a smart piece of software and more like something useful and intuitive — an expert helper or assistant.Today, we’re a step closer to this vision as we introduce Gemini, the most capable and general model we’ve ever built.Gemini is the result of large-scale collaborative efforts by teams across Google, including our colleagues at Google Research. It was built from the ground up to be multimodal, which means it can generalize and seamlessly understand, operate across and combine different types of information including text, code, audio, image and video.\\n\\n\\n\\n\\n\\n\\n\\n\\n\\n\\n\\n\\n\\n\\n\\n\\n\\n\\n\\n\\n\\n\\n10:25\\n\\n\\n\\n\\nIntroducing Gemini: our largest and most capable AI model\\n\\n\\n\\n\\n\\n\\nGemini is also our most flexible model yet — able to efficiently run on everything from data centers to mobile devices. Its state-of-the-art capabilities will significantly enhance the way developers and enterprise customers build and scale with AI.We’ve optimized Gemini 1.0, our first version, for three different sizes:Gemini Ultra — our largest and most capable model for highly complex tasks.Gemini Pro — our best model for scaling across a wide range of tasks.Gemini Nano — our most efficient model for on-device tasks.\\n\\n\\n\\n\\n\\nState-of-the-art performanceWe've been rigorously testing our Gemini models and evaluating their performance on a wide variety of tasks. From natural image, audio and video understanding to mathematical reasoning, Gemini Ultra’s performance exceeds current state-of-the-art results on 30 of the 32 widely-used academic benchmarks used in large language model (LLM) research and development.With a score of 90.0%, Gemini Ultra is the first model to outperform human experts on MMLU (massive multitask language understanding), which uses a combination of 57 subjects such as math, physics, history, law, medicine and ethics for testing both world knowledge and problem-solving abilities.Our new benchmark approach to MMLU enables Gemini to use its reasoning capabilities to think more carefully before answering difficult questions, leading to significant improvements over just using its first impression.\\n\\n\\n\\n\\n\\n\\nGemini surpasses state-of-the-art performance on a range of benchmarks including text and coding.\\n\\n\\n\\nGemini Ultra also achieves a state-of-the-art score of 59.4% on the new MMMU benchmark, which consists of multimodal tasks spanning different domains requiring deliberate reasoning.With the image benchmarks we tested, Gemini Ultra outperformed previous state-of-the-art models, without assistance from optical character recognition (OCR) systems that extract text from images for further processing. These benchmarks highlight Gemini’s native multimodality and indicate early signs of Gemini's more complex reasoning abilities.See more details in our Gemini technical report.\\n\\n\\n\\n\\n\\n\\nGemini surpasses state-of-the-art performance on a range of multimodal benchmarks.\\n\\n\\n\\n\\nNext-generation capabilitiesUntil now, the standard approach to creating multimodal models involved training separate components for different modalities and then stitching them together to roughly mimic some of this functionality. These models can sometimes be good at performing certain tasks, like describing images, but struggle with more conceptual and complex reasoning.We designed Gemini to be natively multimodal, pre-trained from the start on different modalities. Then we fine-tuned it with additional multimodal data to further refine its effectiveness. This helps Gemini seamlessly understand and reason about all kinds of inputs from the ground up, far better than existing multimodal models — and its capabilities are state of the art in nearly every domain.Learn more about Gemini’s capabilities and see how it works.Sophisticated reasoningGemini 1.0’s sophisticated multimodal reasoning capabilities can help make sense of complex written and visual information. This makes it uniquely skilled at uncovering knowledge that can be difficult to discern amid vast amounts of data.Its remarkable ability to extract insights from hundreds of thousands of documents through reading, filtering and understanding information will help deliver new breakthroughs at digital speeds in many fields from science to finance.\\n\\n\\n\\n\\n\\n\\n\\n\\n\\n\\n\\n\\n\\n\\n\\n\\n\\n\\n\\n\\n\\n\\n10:25\\n\\n\\n\\n\\nGemini unlocks new scientific insights\\n\\n\\n\\n\\n\\n\\nUnderstanding text, images, audio and moreGemini 1.0 was trained to recognize and understand text, images, audio and more at the same time, so it better understands nuanced information and can answer questions relating to complicated topics. This makes it especially good at explaining reasoning in complex subjects like math and physics.\\n\\n\\n\\n\\n\\n\\n\\n\\n\\n\\n\\n\\n\\n\\n\\n\\n\\n\\n\\n\\n\\n\\n10:25\\n\\n\\n\\n\\nGemini explains reasoning in math and physics\\n\\n\\n\\n\\n\\n\\nAdvanced codingOur first version of Gemini can understand, explain and generate high-quality code in the world’s most popular programming languages, like Python, Java, C++, and Go. Its ability to work across languages and reason about complex information makes it one of the leading foundation models for coding in the world.Gemini Ultra excels in several coding benchmarks, including HumanEval, an important industry-standard for evaluating performance on coding tasks, and Natural2Code, our internal held-out dataset, which uses author-generated sources instead of web-based information.Gemini can also be used as the engine for more advanced coding systems. Two years ago we presented AlphaCode, the first AI code generation system to reach a competitive level of performance in programming competitions.Using a specialized version of Gemini, we created a more advanced code generation system, AlphaCode 2, which excels at solving competitive programming problems that go beyond coding to involve complex math and theoretical computer science.\\n\\n\\n\\n\\n\\n\\n\\n\\n\\n\\n\\n\\n\\n\\n\\n\\n\\n\\n\\n\\n\\n\\n10:25\\n\\n\\n\\n\\nGemini excels at coding and competitive programming\\n\\n\\n\\n\\n\\n\\nWhen evaluated on the same platform as the original AlphaCode, AlphaCode 2 shows massive improvements, solving nearly twice as many problems, and we estimate that it performs better than 85% of competition participants — up from nearly 50% for AlphaCode. When programmers collaborate with AlphaCode 2 by defining certain properties for the code samples to follow, it performs even better.We’re excited for programmers to increasingly use highly capable AI models as collaborative tools that can help them reason about the problems, propose code designs and assist with implementation — so they can release apps and design better services, faster.See more details in our AlphaCode 2 technical report.\\n\\n\\n\\n\\n\\nMore reliable, scalable and efficientWe trained Gemini 1.0 at scale on our AI-optimized infrastructure using Google’s in-house designed Tensor Processing Units (TPUs) v4 and v5e. And we designed it to be our most reliable and scalable model to train, and our most efficient to serve.On TPUs, Gemini runs significantly faster than earlier, smaller and less-capable models. These custom-designed AI accelerators have been at the heart of Google's AI-powered products that serve billions of users like Search, YouTube, Gmail, Google Maps, Google Play and Android. They’ve also enabled companies around the world to train large-scale AI models cost-efficiently.Today, we’re announcing the most powerful, efficient and scalable TPU system to date, Cloud TPU v5p, designed for training cutting-edge AI models. This next generation TPU will accelerate Gemini’s development and help developers and enterprise customers train large-scale generative AI models faster, allowing new products and capabilities to reach customers sooner.\\n\\n\\n\\n\\n\\n\\nA row of Cloud TPU v5p AI accelerator supercomputers in a Google data center.\\n\\n\\n\\n\\nBuilt with responsibility and safety at the coreAt Google, we’re committed to advancing bold and responsible AI in everything we do. Building upon Google’s AI Principles and the robust safety policies across our products, we’re adding new protections to account for Gemini’s multimodal capabilities. At each stage of development, we’re considering potential risks and working to test and mitigate them.Gemini has the most comprehensive safety evaluations of any Google AI model to date, including for bias and toxicity. We’ve conducted novel research into potential risk areas like cyber-offense, persuasion and autonomy, and have applied Google Research’s best-in-class adversarial testing techniques to help identify critical safety issues in advance of Gemini’s deployment.To identify blindspots in our internal evaluation approach, we’re working with a diverse group of external experts and partners to stress-test our models across a range of issues.To diagnose content safety issues during Gemini’s training phases and ensure its output follows our policies, we’re using benchmarks such as Real Toxicity Prompts, a set of 100,000 prompts with varying degrees of toxicity pulled from the web, developed by experts at the Allen Institute for AI. Further details on this work are coming soon.To limit harm, we built dedicated safety classifiers to identify, label and sort out content involving violence or negative stereotypes, for example. Combined with robust filters, this layered approach is designed to make Gemini safer and more inclusive for everyone. Additionally, we’re continuing to address known challenges for models such as factuality, grounding, attribution and corroboration.Responsibility and safety will always be central to the development and deployment of our models. This is a long-term commitment that requires building collaboratively, so we’re partnering with the industry and broader ecosystem on defining best practices and setting safety and security benchmarks through organizations like MLCommons, the Frontier Model Forum and its AI Safety Fund, and our Secure AI Framework (SAIF), which was designed to help mitigate security risks specific to AI systems across the public and private sectors. We’ll continue partnering with researchers, governments and civil society groups around the world as we develop Gemini.\\n\\n\\n\\n\\n\\nMaking Gemini available to the worldGemini 1.0 is now rolling out across a range of products and platforms:Gemini Pro in Google productsWe’re bringing Gemini to billions of people through Google products.Starting today, Bard will use a fine-tuned version of Gemini Pro for more advanced reasoning, planning, understanding and more. This is the biggest upgrade to Bard since it launched. It will be available in English in more than 170 countries and territories, and we plan to expand to different modalities and support new languages and locations in the near future.We’re also bringing Gemini to Pixel. Pixel 8 Pro is the first smartphone engineered to run Gemini Nano, which is powering new features like Summarize in the Recorder app and rolling out in Smart Reply in Gboard, starting with WhatsApp, Line and KakaoTalk1 — with more messaging apps coming next year.In the coming months, Gemini will be available in more of our products and services like Search, Ads, Chrome and Duet AI.We’re already starting to experiment with Gemini in Search, where it's making our Search Generative Experience (SGE) faster for users, with a 40% reduction in latency in English in the U.S., alongside improvements in quality.Building with GeminiStarting on December 13, developers and enterprise customers can access Gemini Pro via the Gemini API in Google AI Studio or Google Cloud Vertex AI.Google AI Studio is a free, web-based developer tool to prototype and launch apps quickly with an API key. When it's time for a fully-managed AI platform, Vertex AI allows customization of Gemini with full data control and benefits from additional Google Cloud features for enterprise security, safety, privacy and data governance and compliance.Android developers will also be able to build with Gemini Nano, our most efficient model for on-device tasks, via AICore, a new system capability available in Android 14, starting on Pixel 8 Pro devices. Sign up for an early preview of AICore.Gemini Ultra coming soonFor Gemini Ultra, we’re currently completing extensive trust and safety checks, including red-teaming by trusted external parties, and further refining the model using fine-tuning and reinforcement learning from human feedback (RLHF) before making it broadly available.As part of this process, we’ll make Gemini Ultra available to select customers, developers, partners and safety and responsibility experts for early experimentation and feedback before rolling it out to developers and enterprise customers early next year.Early next year, we’ll also launch Bard Advanced, a new, cutting-edge AI experience that gives you access to our best models and capabilities, starting with Gemini Ultra.\\n\\n\\n\\n\\nThe Gemini era: enabling a future of innovationThis is a significant milestone in the development of AI, and the start of a new era for us at Google as we continue to rapidly innovate and responsibly advance the capabilities of our models.We’ve made great progress on Gemini so far and we’re working hard to further extend its capabilities for future versions, including advances in planning and memory, and increasing the context window for processing even more information to give better responses.We’re excited by the amazing possibilities of a world responsibly empowered by AI — a future of innovation that will enhance creativity, extend knowledge, advance science and transform the way billions of people live and work around the world.\\n\\n\\n\\n\\n\\n\\n\\n\\nCollection\\n\\n\\n\\n\\n\\n\\n\\n\\n\\n\\nCollection\\n\\nMore about Gemini\\nExplore our collection to find out more about Gemini, the most capable and general model we’ve ever built.\\n\\nSee more\\n\\n\\n\\n\\n\\n\\n\\n\\n\\n\\n\\n\\n\\n\\n\\n\\n\\n\\n\\n\\n\\n\\n\\n\\n\\n\\n\\n\\n          Get more stories from Google in your inbox.\\n        \\n\\n\\n\\n\\n\\n    Email address\\n  \\n\\n\\n\\n\\n\\n              Your information will be used in accordance with\\n            \\nGoogle's privacy policy.\\n\\n\\n            Subscribe\\n          \\n\\n\\n\\n\\n\\n\\n\\n\\n\\n\\n\\n\\n\\nDone. Just one step more.\\n\\nCheck your inbox to confirm your subscription.\\n\\nYou are already subscribed to our newsletter.\\n\\n\\n\\n          You can also subscribe with a\\n        \\ndifferent email address\\n\\n        .\\n        \\n\\n\\n\\n\\n\\n\\nPOSTED IN:\\n\\n\\n\\n\\n\\n\\nAI\\n\\n\\n  \\n\\n\\n\\n\\n\\nGemini\\n\\n\\n  \\n\\n\\n\\n\\n\\nDevelopers\\n\\n\\n  \\n\\n\\n\\n\\n\\nGoogle Cloud\\n\\n\\n  \\n\\n\\n\\n\\n\\nResearch\\n\\n\\n  \\n\\n\\n\\n\\n\\nGoogle DeepMind\\n\\n\\n  \\n\\n\\n\\n\\n\\nPixel\\n\\n\\n  \\n\\n\\n\\n\\n\\n\\n\\n\\n\\n\\n\\n\\n\\n\\n\\n\\nRead Article\\n\\n\\n\\n\\n\\n\\n\\nMore Information\\n\\n\\n\\n\\n\\n\\n\\n\\n\\n\\n\\n1\\n\\nUpdated on Dec 13 to include additional messaging apps\\n\\n\\n\\nCollapse\\n\\n\\n\\n\\n\\n\\n\\n\\n\\n\\n\\n\\n\\n\\n\\n\\n\\n            Related stories\\n          \\n\\n\\n\\n\\n\\n\\n\\n\\nGemini\\nGemini image generation got it wrong. We'll do better.\\nAn explanation of how the issues with Gemini’s image generation of people happened, and what we’re doing to fix it.\\n\\n\\n\\n                  By\\n                  \\n                    \\n                    Prabhakar Raghavan\\n                    \\n\\n Feb 23, 2024\\n\\n\\n\\n\\n\\n\\n\\n\\n\\n\\n\\n\\n\\n\\n\\n\\n\\n\\nGoogle Ads\\nGemini models are coming to Performance Max\\n\\n\\n\\n                  By\\n                  \\n                    \\n                    Pallavi Naresh\\n                    \\n\\n Feb 22, 2024\\n\\n\\n\\n\\n\\n\\n\\n\\n\\n\\n\\n\\n\\n\\n\\n\\n\\n\\nGoogle Workspace\\nNew ways Google Workspace customers can use Gemini\\n\\n\\n\\n                  By\\n                  \\n                    \\n                    Aparna Pappu\\n                    \\n\\n Feb 21, 2024\\n\\n\\n\\n\\n\\n\\n\\n\\n\\n\\n\\n\\n\\n\\n\\n\\n\\n\\nGoogle One\\nBoost your productivity: Use Gemini in Gmail, Docs and more with the new Google One plan\\n\\n\\n\\n                  By\\n                  \\n                    \\n                    Esteban Kozak\\n                    \\n\\n Feb 21, 2024\\n\\n\\n\\n\\n\\n\\n\\n\\n\\n\\n\\n\\n\\n\\n\\n\\n\\n\\nDevelopers\\nGemma: Introducing new state-of-the-art open models\\n\\n\\n\\n                  By\\n                  \\n                    \\n                    Jeanine Banks\\n                    \\n\\n                    Tris Warkentin\\n                    \\n\\n Feb 21, 2024\\n\\n\\n\\n\\n\\n\\n\\n\\n\\n\\n\\n\\n\\n\\n\\n\\n\\n\\nAI\\nWhat is a long context window?\\n\\n\\n\\n                  By\\n                  \\n                    \\n                    Chaim Gartenberg\\n                    \\n\\n Feb 16, 2024\\n\\n\\n\\n\\n\\n\\n.\\n\\n\\n\\n\\n\\n\\n\\n\\n\\n\\n\\n\\n\\n\\n\\n\\n\\n\\n\\n\\n\\n\\n\\n\\n\\n\\n\\n\\n\\n\\n\\n\\n\\n\\n\\n\\n\\nLet’s stay in touch. Get the latest news from Google in your inbox.\\n\\n\\nSubscribe\\nNo thanks\\n\\n\\n\\n\\n\\n\\n\\n\\n\\n              Follow Us\\n            \\n\\n\\n\\n\\n\\n\\n\\n\\n\\n\\n\\n\\n\\n\\n\\n\\n\\n\\n\\n\\n\\n\\n\\n\\n\\n\\n\\n\\n\\n\\n\\n\\n\\n\\n\\n\\n\\n\\n\\n\\n\\n\\n\\n\\n\\n\\n\\n\\n\\n\\nPrivacy\\n            \\n\\n\\nTerms\\n            \\n\\n\\nAbout Google\\n            \\n\\n\\nGoogle Products\\n            \\n\\n\\nAbout the Keyword\\n              \\n\\n\\n\\n\\n\\n\\n\\n\\n              Help\\n            \\n\\n\\n\\n\\n\\n        Deutsch\\n      \\n\\n        English\\n      \\n\\n        English (Africa)\\n      \\n\\n        English (Australia)\\n      \\n\\n        English (Canada)\\n      \\n\\n        English (India)\\n      \\n\\n        English (MENA)\\n      \\n\\n        Español (España)\\n      \\n\\n        Español (Latinoamérica)\\n      \\n\\n        Français (Canada)\\n      \\n\\n        Français (France)\\n      \\n\\n        Italiano\\n      \\n\\n        Nederlands (Nederland)\\n      \\n\\n        Polski\\n      \\n\\n        Português (Brasil)\\n      \\n\\n        اللغة العربية (MENA)\\n      \\n\\n        한국어\\n      \\n\\n\\n\\n\\n\\n\\n\\n\\n\\n\\n\\n\\n\\n\\n\\n\\n\", metadata={'source': 'https://blog.google/technology/ai/google-gemini-ai/#sundar-note', 'title': 'Introducing Gemini: Google’s most capable AI model yet', 'description': 'Gemini is our most capable and general model, built to be multimodal and optimized for three different sizes: Ultra, Pro and Nano.', 'language': 'en-us'})]\n"
          ]
        }
      ],
      "source": [
        "loader = WebBaseLoader(\"https://blog.google/technology/ai/google-gemini-ai/#sundar-note\")\n",
        "docs = loader.load()\n",
        "\n",
        "print(docs)"
      ]
    },
    {
      "cell_type": "markdown",
      "metadata": {
        "id": "4xlf_F_4B6lB"
      },
      "source": [
        "### Initialize Gemini\n",
        "\n",
        "You must import the `ChatGoogleGenerativeAI` LLM from LangChain to initialize your model.\n",
        " In this example you will use **gemini-pro**, as it supports text summarization. To know more about the text model, read Google AI's [language documentation](https://ai.google.dev/models/gemini).\n",
        "\n",
        "You can configure the model parameters such as ***temperature*** or ***top_p***,  by passing the appropriate values when creating the `ChatGoogleGenerativeAI` LLM.  To learn more about the parameters and their uses, read Google AI's [concepts guide](https://ai.google.dev/docs/concepts#model_parameters)."
      ]
    },
    {
      "cell_type": "code",
      "execution_count": 24,
      "metadata": {
        "id": "WWA9F0ZqB-8k"
      },
      "outputs": [
        {
          "ename": "ValidationError",
          "evalue": "1 validation error for ChatGoogleGenerativeAI\n__root__\n  Did not find google_api_key, please add an environment variable `GOOGLE_API_KEY` which contains it, or pass `google_api_key` as a named parameter. (type=value_error)",
          "output_type": "error",
          "traceback": [
            "\u001b[1;31m---------------------------------------------------------------------------\u001b[0m",
            "\u001b[1;31mValidationError\u001b[0m                           Traceback (most recent call last)",
            "Cell \u001b[1;32mIn[24], line 8\u001b[0m\n\u001b[0;32m      1\u001b[0m \u001b[38;5;28;01mfrom\u001b[39;00m \u001b[38;5;21;01mlangchain_google_genai\u001b[39;00m \u001b[38;5;28;01mimport\u001b[39;00m ChatGoogleGenerativeAI\n\u001b[0;32m      2\u001b[0m \u001b[38;5;66;03m# genai.configure(api_key=os.getenv(\"GOOGLE_API_KEY\"))\u001b[39;00m\n\u001b[0;32m      3\u001b[0m \u001b[38;5;66;03m# model = genai.GenerativeModel('gemini-pro')\u001b[39;00m\n\u001b[0;32m      4\u001b[0m \u001b[38;5;66;03m# If there is no env variable set for API key, you can pass the API key\u001b[39;00m\n\u001b[0;32m      5\u001b[0m \u001b[38;5;66;03m# to the parameter `google_api_key` of the `ChatGoogleGenerativeAI` function:\u001b[39;00m\n\u001b[0;32m      6\u001b[0m \u001b[38;5;66;03m# `google_api_key=\"key\"`.\u001b[39;00m\n\u001b[1;32m----> 8\u001b[0m llm \u001b[38;5;241m=\u001b[39m \u001b[43mChatGoogleGenerativeAI\u001b[49m\u001b[43m(\u001b[49m\u001b[43mmodel\u001b[49m\u001b[38;5;241;43m=\u001b[39;49m\u001b[38;5;124;43m\"\u001b[39;49m\u001b[38;5;124;43mgemini-pro\u001b[39;49m\u001b[38;5;124;43m\"\u001b[39;49m\u001b[43m,\u001b[49m\u001b[43m \u001b[49m\u001b[43mapi_key\u001b[49m\u001b[43m \u001b[49m\u001b[38;5;241;43m=\u001b[39;49m\u001b[43m \u001b[49m\u001b[43mos\u001b[49m\u001b[38;5;241;43m.\u001b[39;49m\u001b[43menviron\u001b[49m\u001b[38;5;241;43m.\u001b[39;49m\u001b[43mget\u001b[49m\u001b[43m(\u001b[49m\u001b[38;5;124;43m\"\u001b[39;49m\u001b[38;5;124;43mGOOGLE_API_KEY\u001b[39;49m\u001b[38;5;124;43m\"\u001b[39;49m\u001b[43m)\u001b[49m\u001b[43m,\u001b[49m\n\u001b[0;32m      9\u001b[0m \u001b[43m                 \u001b[49m\u001b[43mtemperature\u001b[49m\u001b[38;5;241;43m=\u001b[39;49m\u001b[38;5;241;43m0.7\u001b[39;49m\u001b[43m,\u001b[49m\u001b[43m \u001b[49m\u001b[43mtop_p\u001b[49m\u001b[38;5;241;43m=\u001b[39;49m\u001b[38;5;241;43m0.85\u001b[39;49m\u001b[43m)\u001b[49m\n",
            "File \u001b[1;32md:\\TOMO.Project\\generative-ai\\venv\\Lib\\site-packages\\langchain_core\\load\\serializable.py:120\u001b[0m, in \u001b[0;36mSerializable.__init__\u001b[1;34m(self, **kwargs)\u001b[0m\n\u001b[0;32m    119\u001b[0m \u001b[38;5;28;01mdef\u001b[39;00m \u001b[38;5;21m__init__\u001b[39m(\u001b[38;5;28mself\u001b[39m, \u001b[38;5;241m*\u001b[39m\u001b[38;5;241m*\u001b[39mkwargs: Any) \u001b[38;5;241m-\u001b[39m\u001b[38;5;241m>\u001b[39m \u001b[38;5;28;01mNone\u001b[39;00m:\n\u001b[1;32m--> 120\u001b[0m     \u001b[38;5;28;43msuper\u001b[39;49m\u001b[43m(\u001b[49m\u001b[43m)\u001b[49m\u001b[38;5;241;43m.\u001b[39;49m\u001b[38;5;21;43m__init__\u001b[39;49m\u001b[43m(\u001b[49m\u001b[38;5;241;43m*\u001b[39;49m\u001b[38;5;241;43m*\u001b[39;49m\u001b[43mkwargs\u001b[49m\u001b[43m)\u001b[49m\n\u001b[0;32m    121\u001b[0m     \u001b[38;5;28mself\u001b[39m\u001b[38;5;241m.\u001b[39m_lc_kwargs \u001b[38;5;241m=\u001b[39m kwargs\n",
            "File \u001b[1;32md:\\TOMO.Project\\generative-ai\\venv\\Lib\\site-packages\\pydantic\\v1\\main.py:341\u001b[0m, in \u001b[0;36mBaseModel.__init__\u001b[1;34m(__pydantic_self__, **data)\u001b[0m\n\u001b[0;32m    339\u001b[0m values, fields_set, validation_error \u001b[38;5;241m=\u001b[39m validate_model(__pydantic_self__\u001b[38;5;241m.\u001b[39m\u001b[38;5;18m__class__\u001b[39m, data)\n\u001b[0;32m    340\u001b[0m \u001b[38;5;28;01mif\u001b[39;00m validation_error:\n\u001b[1;32m--> 341\u001b[0m     \u001b[38;5;28;01mraise\u001b[39;00m validation_error\n\u001b[0;32m    342\u001b[0m \u001b[38;5;28;01mtry\u001b[39;00m:\n\u001b[0;32m    343\u001b[0m     object_setattr(__pydantic_self__, \u001b[38;5;124m'\u001b[39m\u001b[38;5;124m__dict__\u001b[39m\u001b[38;5;124m'\u001b[39m, values)\n",
            "\u001b[1;31mValidationError\u001b[0m: 1 validation error for ChatGoogleGenerativeAI\n__root__\n  Did not find google_api_key, please add an environment variable `GOOGLE_API_KEY` which contains it, or pass `google_api_key` as a named parameter. (type=value_error)"
          ]
        }
      ],
      "source": [
        "from langchain_google_genai import ChatGoogleGenerativeAI\n",
        "# genai.configure(api_key=os.getenv(\"GOOGLE_API_KEY\"))\n",
        "# model = genai.GenerativeModel('gemini-pro')\n",
        "# If there is no env variable set for API key, you can pass the API key\n",
        "# to the parameter `google_api_key` of the `ChatGoogleGenerativeAI` function:\n",
        "# `google_api_key=\"key\"`.\n",
        "\n",
        "llm = ChatGoogleGenerativeAI(model=\"gemini-pro\", api_key = os.environ.get(\"GOOGLE_API_KEY\"),\n",
        "                 temperature=0.7, top_p=0.85)"
      ]
    },
    {
      "cell_type": "markdown",
      "metadata": {
        "id": "6TECDzaUSTvS"
      },
      "source": [
        "### Create prompt templates\n",
        "\n",
        "You'll use LangChain's [PromptTemplate](https://python.langchain.com/docs/modules/model_io/prompts/prompt_templates/) to generate prompts for summarizing the text.\n",
        "\n",
        "To summarize the text from the website, you will need the following prompts.\n",
        "1. Prompt to extract the data from the output of `WebBaseLoader`, named `doc_prompt`\n",
        "2. Prompt for the LLM model (Gemini) to summarize the extracted text, named `llm_prompt`.\n",
        "\n",
        "In the `llm_prompt`, the variable `text` will be replaced later by the text from the website."
      ]
    },
    {
      "cell_type": "code",
      "execution_count": null,
      "metadata": {
        "id": "rixvvvaNKLe_"
      },
      "outputs": [
        {
          "name": "stdout",
          "output_type": "stream",
          "text": [
            "input_variables=['text'] template='Write a concise summary of the following:\\n\"{text}\"\\nCONCISE SUMMARY:'\n"
          ]
        }
      ],
      "source": [
        "# To extract data from WebBaseLoader\n",
        "doc_prompt = PromptTemplate.from_template(\"{page_content}\")\n",
        "\n",
        "# To query Gemini\n",
        "llm_prompt_template = \"\"\"Write a concise summary of the following:\n",
        "\"{text}\"\n",
        "CONCISE SUMMARY:\"\"\"\n",
        "llm_prompt = PromptTemplate.from_template(llm_prompt_template)\n",
        "\n",
        "print(llm_prompt)"
      ]
    },
    {
      "cell_type": "markdown",
      "metadata": {
        "id": "-wPBMFyISh13"
      },
      "source": [
        "### Create a Stuff documents chain\n",
        "\n",
        "LangChain provides [Chains](https://python.langchain.com/docs/modules/chains/) for chaining together LLMs with each other or other components for complex applications. You will create a **Stuff documents chain** for this application. A **Stuff documents chain** lets you combine all the documents, insert them into the prompt and pass that prompt to the LLM.\n",
        "\n",
        "You can create a Stuff documents chain using the [LangChain Expression Language (LCEL)](https://python.langchain.com/docs/expression_language).\n",
        "\n",
        "To learn more about different types of document chains, read LangChain's [chains guide](https://python.langchain.com/docs/modules/chains/document/)."
      ]
    },
    {
      "cell_type": "code",
      "execution_count": null,
      "metadata": {
        "id": "EMZomQdyKMr5"
      },
      "outputs": [],
      "source": [
        "# Create Stuff documents chain using LCEL.\n",
        "# This is called a chain because you are chaining\n",
        "# together different elements with the LLM.\n",
        "# In the following example, to create stuff chain,\n",
        "# you will combine content, prompt, LLM model and\n",
        "# output parser together like a chain using LCEL.\n",
        "#\n",
        "# The chain implements the following pipeline:\n",
        "# 1. Extract data from documents and save to variable `text`.\n",
        "# 2. This `text` is then passed to the prompt and input variable\n",
        "#    in prompt is populated.\n",
        "# 3. The prompt is then passed to the LLM (Gemini).\n",
        "# 4. Output from the LLM is passed through an output parser\n",
        "#    to structure the model response.\n",
        "\n",
        "stuff_chain = (\n",
        "    # Extract data from the documents and add to the key `text`.\n",
        "    {\n",
        "        \"text\": lambda docs: \"\\n\\n\".join(\n",
        "            format_document(doc, doc_prompt) for doc in docs\n",
        "        )\n",
        "    }\n",
        "    | llm_prompt         # Prompt for Gemini\n",
        "    | llm                # Gemini function\n",
        "    | StrOutputParser()  # output parser\n",
        ")"
      ]
    },
    {
      "cell_type": "markdown",
      "metadata": {
        "id": "5L0Tvk_5eQzC"
      },
      "source": [
        "### Prompt the model\n",
        "\n",
        "To generate the summary of the  the website data, pass the documents extracted using the `WebBaseLoader` (`docs`) to `invoke()`."
      ]
    },
    {
      "cell_type": "code",
      "execution_count": null,
      "metadata": {
        "id": "k9_GxkA5ePRR"
      },
      "outputs": [
        {
          "data": {
            "application/vnd.google.colaboratory.intrinsic+json": {
              "type": "string"
            },
            "text/plain": [
              "\"Google introduces Gemini, its most capable AI model yet. Gemini is multimodal, flexible, and optimized for different sizes. It surpasses state-of-the-art performance on various benchmarks, including text, coding, and multimodal tasks. Gemini's capabilities include sophisticated reasoning, understanding text, images, audio, and advanced coding. It is designed with responsibility and safety at its core, undergoing comprehensive safety evaluations and incorporating safety classifiers. Gemini is being rolled out across Google products, including Bard, Pixel, Search, and Ads. Developers and enterprise customers can access Gemini Pro via the Gemini API. Gemini Ultra will be available to select partners and experts for early experimentation before a broader release. Gemini represents a new era of AI innovation, with future versions expected to advance planning, memory, and context processing capabilities.\""
            ]
          },
          "execution_count": 9,
          "metadata": {},
          "output_type": "execute_result"
        }
      ],
      "source": [
        "stuff_chain.invoke(docs)"
      ]
    },
    {
      "cell_type": "markdown",
      "metadata": {
        "id": "nfrBsxUFgZzc"
      },
      "source": [
        "# Conclusion\n",
        "\n",
        "That's it. You have successfully created an LLM application to summarize text using LangChain and Gemini."
      ]
    }
  ],
  "metadata": {
    "colab": {
      "name": "Gemini_LangChain_Summarization_WebLoad.ipynb",
      "toc_visible": true
    },
    "kernelspec": {
      "display_name": "Python 3",
      "name": "python3"
    },
    "language_info": {
      "codemirror_mode": {
        "name": "ipython",
        "version": 3
      },
      "file_extension": ".py",
      "mimetype": "text/x-python",
      "name": "python",
      "nbconvert_exporter": "python",
      "pygments_lexer": "ipython3",
      "version": "3.11.8"
    }
  },
  "nbformat": 4,
  "nbformat_minor": 0
}
